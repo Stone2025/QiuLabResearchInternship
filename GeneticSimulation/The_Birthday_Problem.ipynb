{
  "nbformat": 4,
  "nbformat_minor": 0,
  "metadata": {
    "colab": {
      "provenance": [],
      "authorship_tag": "ABX9TyPhsut5vrMhaUOqfjjIHVYY",
      "include_colab_link": true
    },
    "kernelspec": {
      "name": "python3",
      "display_name": "Python 3"
    },
    "language_info": {
      "name": "python"
    }
  },
  "cells": [
    {
      "cell_type": "markdown",
      "metadata": {
        "id": "view-in-github",
        "colab_type": "text"
      },
      "source": [
        "<a href=\"https://colab.research.google.com/github/Stone2025/QiuLabResearchInternship/blob/main/GeneticSimulation/The_Birthday_Problem.ipynb\" target=\"_parent\"><img src=\"https://colab.research.google.com/assets/colab-badge.svg\" alt=\"Open In Colab\"/></a>"
      ]
    },
    {
      "cell_type": "markdown",
      "source": [
        "#The Birthday Problem"
      ],
      "metadata": {
        "id": "4h0d2fdvbbhv"
      }
    },
    {
      "cell_type": "code",
      "source": [
        "import pandas as pd\n",
        "import numpy as np\n",
        "import seaborn as sns"
      ],
      "metadata": {
        "id": "ISfePmVPWAdq"
      },
      "execution_count": null,
      "outputs": []
    },
    {
      "cell_type": "code",
      "execution_count": null,
      "metadata": {
        "id": "A8o8ih1iU3V1"
      },
      "outputs": [],
      "source": [
        "def birthday(pop_size):\n",
        "  day = np.random.choice(range(0, 365), size = pop_size, replace = True, )\n",
        "  return day"
      ]
    },
    {
      "cell_type": "code",
      "source": [
        "def match(pop_size):\n",
        "  bdays = birthday(pop_size)\n",
        "  for day in range(len(bdays) - 1):\n",
        "    if bdays[day] == bdays[day+1]:\n",
        "      return 1\n",
        "  return 0\n"
      ],
      "metadata": {
        "id": "9PMT76C-YleW"
      },
      "execution_count": null,
      "outputs": []
    },
    {
      "cell_type": "code",
      "source": [
        "def prob(pop_size, num_sim):\n",
        "  count = 0.0\n",
        "  for num in range(num_sim):\n",
        "    count += match(pop_size)\n",
        "  return count / num_sim"
      ],
      "metadata": {
        "id": "dK_xfBmc3Auo"
      },
      "execution_count": null,
      "outputs": []
    },
    {
      "cell_type": "code",
      "source": [
        "print(f\"birthday function output: {birthday(25)}\")\n",
        "print(f\"match function output: {match(23)}\")\n",
        "print(f\"prob fuction output: {prob(23, 1000)}\")\n",
        "# Note: each function has its own list"
      ],
      "metadata": {
        "colab": {
          "base_uri": "https://localhost:8080/"
        },
        "id": "B6zFG9ql6sA5",
        "outputId": "bf0e1992-c50c-4513-84c7-0bd3ccf51210"
      },
      "execution_count": null,
      "outputs": [
        {
          "output_type": "stream",
          "name": "stdout",
          "text": [
            "birthday function output: [359 130  19  60 326  91 131 261 109 127  45 299 151 284 272 249 141 256\n",
            "  15  96 360 104  45 359  60]\n",
            "match function output: 0\n",
            "prob fuction output: 0.051\n"
          ]
        }
      ]
    }
  ]
}